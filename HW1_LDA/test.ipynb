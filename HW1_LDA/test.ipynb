{
 "cells": [
  {
   "cell_type": "code",
   "execution_count": 1,
   "metadata": {},
   "outputs": [],
   "source": [
    "import numpy as np\n",
    "from sklearn import datasets, linear_model\n",
    "from sklearn.metrics import accuracy_score\n",
    "from sklearn.preprocessing import StandardScaler\n",
    "from sklearn.model_selection import train_test_split"
   ]
  },
  {
   "cell_type": "code",
   "execution_count": 2,
   "metadata": {},
   "outputs": [],
   "source": [
    "# import data\n",
    "n_samples = 300\n",
    "cancer = datasets.load_breast_cancer()\n",
    "X,y = cancer['data'], cancer['target']\n",
    "X = StandardScaler().fit_transform(X)\n",
    "X_train, X_test, y_train, y_test = train_test_split(X, y, test_size=.3, random_state=42)"
   ]
  },
  {
   "cell_type": "code",
   "execution_count": 4,
   "metadata": {},
   "outputs": [
    {
     "data": {
      "text/plain": [
       "569"
      ]
     },
     "execution_count": 4,
     "metadata": {},
     "output_type": "execute_result"
    }
   ],
   "source": [
    "X.shape[0]"
   ]
  },
  {
   "cell_type": "code",
   "execution_count": 17,
   "metadata": {},
   "outputs": [
    {
     "name": "stdout",
     "output_type": "stream",
     "text": [
      "precision:  0.9415204678362573\n"
     ]
    },
    {
     "name": "stderr",
     "output_type": "stream",
     "text": [
      "/home/lation/anaconda3/envs/prml/lib/python3.8/site-packages/sklearn/linear_model/_logistic.py:460: ConvergenceWarning: lbfgs failed to converge (status=1):\n",
      "STOP: TOTAL NO. of ITERATIONS REACHED LIMIT.\n",
      "\n",
      "Increase the number of iterations (max_iter) or scale the data as shown in:\n",
      "    https://scikit-learn.org/stable/modules/preprocessing.html\n",
      "Please also refer to the documentation for alternative solver options:\n",
      "    https://scikit-learn.org/stable/modules/linear_model.html#logistic-regression\n",
      "  n_iter_i = _check_optimize_result(\n"
     ]
    }
   ],
   "source": [
    "# Example: use LogisticRegression and evaluate the model\n",
    "logreg = linear_model.LogisticRegression(C=1e3)\n",
    "logreg.fit(X_train, y_train)\n",
    "y_pred = logreg.predict(X_test)\n",
    "print('precision: ', accuracy_score(y_test, y_pred))"
   ]
  },
  {
   "cell_type": "code",
   "execution_count": 5,
   "metadata": {},
   "outputs": [
    {
     "data": {
      "text/plain": [
       "30"
      ]
     },
     "execution_count": 5,
     "metadata": {},
     "output_type": "execute_result"
    }
   ],
   "source": [
    "X.shape[1]"
   ]
  },
  {
   "cell_type": "code",
   "execution_count": 7,
   "metadata": {},
   "outputs": [
    {
     "data": {
      "text/plain": [
       "0"
      ]
     },
     "execution_count": 7,
     "metadata": {},
     "output_type": "execute_result"
    }
   ],
   "source": [
    "y[0]"
   ]
  },
  {
   "cell_type": "code",
   "execution_count": 13,
   "metadata": {},
   "outputs": [],
   "source": [
    "sum = [np.zeros(X.shape[1]), np.zeros(X.shape[1])]\n",
    "for i in range (X.shape[0]):\n",
    "    sum[y[i]] += X[i] / X.shape[1]"
   ]
  },
  {
   "cell_type": "code",
   "execution_count": 14,
   "metadata": {},
   "outputs": [
    {
     "data": {
      "text/plain": [
       "[array([ 6.69453792,  3.80734956,  6.81014732,  6.50155316,  3.28808155,\n",
       "         5.47035802,  6.38578684,  7.12173664,  3.03075163, -0.11772392,\n",
       "         5.20075423, -0.07614357,  5.09994468,  5.0274561 , -0.61455302,\n",
       "         2.6868739 ,  2.32676329,  3.74184683, -0.05980608,  0.71502592,\n",
       "         7.12026884,  4.18990932,  7.17951189,  6.72935296,  3.86493466,\n",
       "         5.4195967 ,  6.04878507,  7.2771922 ,  3.81751946,  2.96998626]),\n",
       " array([-6.69453792, -3.80734956, -6.81014732, -6.50155316, -3.28808155,\n",
       "        -5.47035802, -6.38578684, -7.12173664, -3.03075163,  0.11772392,\n",
       "        -5.20075423,  0.07614357, -5.09994468, -5.0274561 ,  0.61455302,\n",
       "        -2.6868739 , -2.32676329, -3.74184683,  0.05980608, -0.71502592,\n",
       "        -7.12026884, -4.18990932, -7.17951189, -6.72935296, -3.86493466,\n",
       "        -5.4195967 , -6.04878507, -7.2771922 , -3.81751946, -2.96998626])]"
      ]
     },
     "execution_count": 14,
     "metadata": {},
     "output_type": "execute_result"
    }
   ],
   "source": [
    "sum"
   ]
  },
  {
   "cell_type": "code",
   "execution_count": 10,
   "metadata": {},
   "outputs": [],
   "source": [
    "sum1 = [np.zeros(X.shape[1]), np.zeros(X.shape[1])]\n",
    "for i in range (X.shape[0]):\n",
    "    for j in range (X.shape[1]):\n",
    "        sum1[y[i]][j] += X[i][j]"
   ]
  },
  {
   "cell_type": "code",
   "execution_count": 11,
   "metadata": {},
   "outputs": [
    {
     "data": {
      "text/plain": [
       "[array([200.83613751, 114.22048683, 204.30441968, 195.04659486,\n",
       "         98.6424466 , 164.11074063, 191.57360531, 213.65209925,\n",
       "         90.92254899,  -3.5317176 , 156.02262686,  -2.28430712,\n",
       "        152.99834054, 150.82368287, -18.4365905 ,  80.60621687,\n",
       "         69.80289862, 112.25540478,  -1.79418233,  21.45077747,\n",
       "        213.60806519, 125.69727954, 215.38535668, 201.88058867,\n",
       "        115.94803966, 162.58790104, 181.46355224, 218.31576611,\n",
       "        114.52558386,  89.09958778]),\n",
       " array([-200.83613751, -114.22048683, -204.30441968, -195.04659486,\n",
       "         -98.6424466 , -164.11074063, -191.57360531, -213.65209925,\n",
       "         -90.92254899,    3.5317176 , -156.02262686,    2.28430712,\n",
       "        -152.99834054, -150.82368287,   18.4365905 ,  -80.60621687,\n",
       "         -69.80289862, -112.25540478,    1.79418233,  -21.45077747,\n",
       "        -213.60806519, -125.69727954, -215.38535668, -201.88058867,\n",
       "        -115.94803966, -162.58790104, -181.46355224, -218.31576611,\n",
       "        -114.52558386,  -89.09958778])]"
      ]
     },
     "execution_count": 11,
     "metadata": {},
     "output_type": "execute_result"
    }
   ],
   "source": [
    "sum1"
   ]
  },
  {
   "cell_type": "code",
   "execution_count": 12,
   "metadata": {},
   "outputs": [
    {
     "ename": "TypeError",
     "evalue": "unsupported operand type(s) for /: 'list' and 'int'",
     "output_type": "error",
     "traceback": [
      "\u001b[0;31m---------------------------------------------------------------------------\u001b[0m",
      "\u001b[0;31mTypeError\u001b[0m                                 Traceback (most recent call last)",
      "Cell \u001b[0;32mIn[12], line 1\u001b[0m\n\u001b[0;32m----> 1\u001b[0m \u001b[39msum\u001b[39;49m\u001b[39m/\u001b[39;49m\u001b[39m30\u001b[39;49m\n",
      "\u001b[0;31mTypeError\u001b[0m: unsupported operand type(s) for /: 'list' and 'int'"
     ]
    }
   ],
   "source": []
  },
  {
   "cell_type": "code",
   "execution_count": 32,
   "metadata": {},
   "outputs": [],
   "source": [
    "x = np.array([np.array([]),np.array([])])\n",
    "for i in range (X.shape[0]):\n",
    "    # print(X[i])\n",
    "    np.insert(x[y[i]],0,X[i],0)\n",
    "\n",
    "# 计算均值\n",
    "mu = np.array([np.zeros(X.shape[1]), np.zeros(X.shape[1])])\n",
    "for i in range (2):\n",
    "    for j in range (x[i].shape[0]):\n",
    "        mu[i] += x[i][j] / x[i].shape[0]"
   ]
  },
  {
   "cell_type": "code",
   "execution_count": 33,
   "metadata": {},
   "outputs": [
    {
     "data": {
      "text/plain": [
       "array([], dtype=float64)"
      ]
     },
     "execution_count": 33,
     "metadata": {},
     "output_type": "execute_result"
    }
   ],
   "source": [
    "x[0]"
   ]
  },
  {
   "cell_type": "code",
   "execution_count": 30,
   "metadata": {},
   "outputs": [
    {
     "data": {
      "text/plain": [
       "array([1, 2, 3, 4, 5, 6])"
      ]
     },
     "execution_count": 30,
     "metadata": {},
     "output_type": "execute_result"
    }
   ],
   "source": [
    "aa = np.array([[3,4],[5,6]])\n",
    "bb = np.array([1,2])\n",
    "np.insert(aa,0,bb)"
   ]
  },
  {
   "cell_type": "code",
   "execution_count": 53,
   "metadata": {},
   "outputs": [],
   "source": [
    "x = [[],[]]\n",
    "x[0].append(X[0])"
   ]
  },
  {
   "cell_type": "code",
   "execution_count": 54,
   "metadata": {},
   "outputs": [
    {
     "data": {
      "text/plain": [
       "[[array([ 1.09706398, -2.07333501,  1.26993369,  0.9843749 ,  1.56846633,\n",
       "          3.28351467,  2.65287398,  2.53247522,  2.21751501,  2.25574689,\n",
       "          2.48973393, -0.56526506,  2.83303087,  2.48757756, -0.21400165,\n",
       "          1.31686157,  0.72402616,  0.66081994,  1.14875667,  0.90708308,\n",
       "          1.88668963, -1.35929347,  2.30360062,  2.00123749,  1.30768627,\n",
       "          2.61666502,  2.10952635,  2.29607613,  2.75062224,  1.93701461])],\n",
       " []]"
      ]
     },
     "execution_count": 54,
     "metadata": {},
     "output_type": "execute_result"
    }
   ],
   "source": [
    "x"
   ]
  },
  {
   "cell_type": "code",
   "execution_count": 57,
   "metadata": {},
   "outputs": [],
   "source": [
    "x = [[],[]]\n",
    "for i in range (X.shape[0]):\n",
    "    x[y[i]].append(X[i])"
   ]
  },
  {
   "cell_type": "code",
   "execution_count": 72,
   "metadata": {},
   "outputs": [
    {
     "ename": "ValueError",
     "evalue": "operands could not be broadcast together with shapes (0,) (30,) ",
     "output_type": "error",
     "traceback": [
      "\u001b[0;31m---------------------------------------------------------------------------\u001b[0m",
      "\u001b[0;31mValueError\u001b[0m                                Traceback (most recent call last)",
      "Cell \u001b[0;32mIn[72], line 4\u001b[0m\n\u001b[1;32m      2\u001b[0m \u001b[39mfor\u001b[39;00m i \u001b[39min\u001b[39;00m \u001b[39mrange\u001b[39m (\u001b[39m2\u001b[39m):\n\u001b[1;32m      3\u001b[0m     \u001b[39mfor\u001b[39;00m j \u001b[39min\u001b[39;00m \u001b[39mrange\u001b[39m (\u001b[39mlen\u001b[39m(x[i])):\n\u001b[0;32m----> 4\u001b[0m         mu[i] \u001b[39m+\u001b[39m\u001b[39m=\u001b[39m x[i][j] \u001b[39m/\u001b[39m \u001b[39mlen\u001b[39m(x[i])\n",
      "\u001b[0;31mValueError\u001b[0m: operands could not be broadcast together with shapes (0,) (30,) "
     ]
    }
   ],
   "source": [
    "mu = [[],[]]\n",
    "for i in range (2):\n",
    "    for j in range (len(x[i])):\n",
    "        mu[i] += x[i][j] / len(x[i])\n"
   ]
  },
  {
   "cell_type": "code",
   "execution_count": 71,
   "metadata": {},
   "outputs": [
    {
     "ename": "NameError",
     "evalue": "name 'shape' is not defined",
     "output_type": "error",
     "traceback": [
      "\u001b[0;31m---------------------------------------------------------------------------\u001b[0m",
      "\u001b[0;31mNameError\u001b[0m                                 Traceback (most recent call last)",
      "Cell \u001b[0;32mIn[71], line 1\u001b[0m\n\u001b[0;32m----> 1\u001b[0m shape(x[\u001b[39m0\u001b[39m])\n",
      "\u001b[0;31mNameError\u001b[0m: name 'shape' is not defined"
     ]
    }
   ],
   "source": [
    "shape(x[0])"
   ]
  },
  {
   "cell_type": "code",
   "execution_count": null,
   "metadata": {},
   "outputs": [],
   "source": []
  }
 ],
 "metadata": {
  "kernelspec": {
   "display_name": "Python 3.8.17 ('prml')",
   "language": "python",
   "name": "python3"
  },
  "language_info": {
   "codemirror_mode": {
    "name": "ipython",
    "version": 3
   },
   "file_extension": ".py",
   "mimetype": "text/x-python",
   "name": "python",
   "nbconvert_exporter": "python",
   "pygments_lexer": "ipython3",
   "version": "3.8.17"
  },
  "orig_nbformat": 4,
  "vscode": {
   "interpreter": {
    "hash": "1554a5997d4a4af1279db356885af5888f67c04f03e11bdf4a0edb6dfadfe6bf"
   }
  }
 },
 "nbformat": 4,
 "nbformat_minor": 2
}
